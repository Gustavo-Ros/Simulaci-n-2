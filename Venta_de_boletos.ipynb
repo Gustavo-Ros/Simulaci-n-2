{
  "nbformat": 4,
  "nbformat_minor": 0,
  "metadata": {
    "colab": {
      "provenance": [],
      "authorship_tag": "ABX9TyPKhuHusTrjIM8wdCdt6WTo",
      "include_colab_link": true
    },
    "kernelspec": {
      "name": "python3",
      "display_name": "Python 3"
    },
    "language_info": {
      "name": "python"
    }
  },
  "cells": [
    {
      "cell_type": "markdown",
      "metadata": {
        "id": "view-in-github",
        "colab_type": "text"
      },
      "source": [
        "<a href=\"https://colab.research.google.com/github/Gustavo-Ros/Simulaci-n-2/blob/main/Venta_de_boletos.ipynb\" target=\"_parent\"><img src=\"https://colab.research.google.com/assets/colab-badge.svg\" alt=\"Open In Colab\"/></a>"
      ]
    },
    {
      "cell_type": "code",
      "source": [
        "!pip install simpy"
      ],
      "metadata": {
        "colab": {
          "base_uri": "https://localhost:8080/"
        },
        "id": "FMVZXsDSQKu3",
        "outputId": "d3673870-868b-4f1f-96ca-a5b3a7a31d6f"
      },
      "execution_count": 2,
      "outputs": [
        {
          "output_type": "stream",
          "name": "stdout",
          "text": [
            "Collecting simpy\n",
            "  Downloading simpy-4.1.1-py3-none-any.whl.metadata (6.1 kB)\n",
            "Downloading simpy-4.1.1-py3-none-any.whl (27 kB)\n",
            "Installing collected packages: simpy\n",
            "Successfully installed simpy-4.1.1\n"
          ]
        }
      ]
    },
    {
      "cell_type": "code",
      "source": [
        "\n",
        "import matplotlib.pyplot as plt\n",
        "import numpy as np\n",
        "from random import random, seed\n",
        "import pandas as pd\n",
        "import simpy"
      ],
      "metadata": {
        "id": "vIl2YJ-aQOKQ"
      },
      "execution_count": 3,
      "outputs": []
    },
    {
      "cell_type": "code",
      "execution_count": 4,
      "metadata": {
        "colab": {
          "base_uri": "https://localhost:8080/"
        },
        "id": "nAwCTkYdQECe",
        "outputId": "c9f0c8ae-c549-4f8a-a06b-4ef4dd081f5a"
      },
      "outputs": [
        {
          "output_type": "stream",
          "name": "stdout",
          "text": [
            "----El cliente número 0 ha llegado a la fila virtual en el minuto 13.51----\n",
            "****El cliente 0 ha comenzado la compra en el minuto 13.51****\n",
            "xxxEl cliente 0 ha terminado la compra en el minuto 17.25xxx\n",
            "----El cliente número 1 ha llegado a la fila virtual en el minuto 17.29----\n",
            "****El cliente 1 ha comenzado la compra en el minuto 17.29****\n",
            "----El cliente número 2 ha llegado a la fila virtual en el minuto 18.92----\n",
            "xxxEl cliente 1 ha terminado la compra en el minuto 19.03xxx\n",
            "****El cliente 2 ha comenzado la compra en el minuto 19.03****\n",
            "xxxEl cliente 2 ha terminado la compra en el minuto 20.62xxx\n",
            "----El cliente número 3 ha llegado a la fila virtual en el minuto 33.59----\n",
            "****El cliente 3 ha comenzado la compra en el minuto 33.59****\n",
            "xxxEl cliente 3 ha terminado la compra en el minuto 37.53xxx\n",
            "----El cliente número 4 ha llegado a la fila virtual en el minuto 48.5----\n",
            "****El cliente 4 ha comenzado la compra en el minuto 48.5****\n",
            "xxxEl cliente 4 ha terminado la compra en el minuto 50.02xxx\n"
          ]
        }
      ],
      "source": [
        "def venta_boletos(env, fila_virtual, num_clientes, texto=True):\n",
        "    global tasa_llegada, cifras, duracion_compra, tiempos_llegada, tiempos_compra, tiempos_salida\n",
        "\n",
        "    for i in range(num_clientes):\n",
        "        # Llegada del cliente a la fila virtual\n",
        "        r = random()\n",
        "        tiempo_llegada = -np.log(r) / tasa_llegada\n",
        "        yield env.timeout(tiempo_llegada)\n",
        "        tiempos_llegada.append(env.now)\n",
        "\n",
        "        if texto:\n",
        "            print(f'----El cliente número {i} ha llegado a la fila virtual en el minuto {round(env.now, cifras)}----')\n",
        "\n",
        "        # Iniciar el proceso de compra para el cliente\n",
        "        env.process(compra_boletos(env, fila_virtual, i, texto))\n",
        "\n",
        "def compra_boletos(env, fila_virtual, num_cliente, texto=True):\n",
        "    global duracion_compra, tiempos_compra, tiempos_salida, tiempo_compra_min, tiempo_compra_max\n",
        "\n",
        "    # Solicitud para iniciar la compra de boletos\n",
        "    with fila_virtual.request() as solicitud:\n",
        "        yield solicitud\n",
        "\n",
        "        # Se genera el tiempo de compra\n",
        "        r = random()\n",
        "        tiempo_compra = tiempo_compra_min + (tiempo_compra_max - tiempo_compra_min) * r\n",
        "        duracion_compra += tiempo_compra\n",
        "        tiempos_compra.append(tiempo_compra)\n",
        "\n",
        "        if texto:\n",
        "            print(f'****El cliente {num_cliente} ha comenzado la compra en el minuto {round(env.now, cifras)}****')\n",
        "\n",
        "        # Tiempo en el sistema durante la compra de boletos\n",
        "        yield env.timeout(tiempo_compra)\n",
        "\n",
        "        # Registro del momento en que termina la compra\n",
        "        tiempos_salida.append(env.now)\n",
        "\n",
        "        if texto:\n",
        "            print(f'xxxEl cliente {num_cliente} ha terminado la compra en el minuto {round(env.now, cifras)}xxx')\n",
        "\n",
        "# Variables globales para la simulación\n",
        "global tiempo_compra_min, tiempo_compra_max, tasa_llegada, num_boletos, cifras\n",
        "semilla = 13\n",
        "seed(semilla)\n",
        "\n",
        "# Configuración de la simulación\n",
        "num_boletos = 1\n",
        "tiempo_compra_min = 1      # Tiempo mínimo de compra en minutos\n",
        "tiempo_compra_max = 5      # Tiempo máximo de compra en minutos\n",
        "tasa_llegada = 1 / 10      # Clientes llegan cada 10 minutos en promedio\n",
        "num_clientes = 5           # Número de clientes en la simulación\n",
        "cifras = 2                 # Número de decimales para los tiempos\n",
        "\n",
        "# Variables para el seguimiento de tiempos\n",
        "global duracion_compra, tiempos_llegada, tiempos_compra, tiempos_salida\n",
        "duracion_compra = 0\n",
        "tiempos_llegada = []\n",
        "tiempos_compra = []\n",
        "tiempos_salida = []\n",
        "\n",
        "# Crear entorno de simulación y recurso (fila virtual)\n",
        "env = simpy.Environment()\n",
        "fila_virtual = simpy.Resource(env, capacity=num_boletos)\n",
        "\n",
        "# Iniciar el proceso de venta de boletos\n",
        "env.process(venta_boletos(env, fila_virtual, num_clientes))\n",
        "\n",
        "# Ejecutar la simulación\n",
        "env.run()\n"
      ]
    }
  ]
}