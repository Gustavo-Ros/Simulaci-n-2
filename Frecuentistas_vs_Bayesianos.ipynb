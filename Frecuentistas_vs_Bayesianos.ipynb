{
  "nbformat": 4,
  "nbformat_minor": 0,
  "metadata": {
    "colab": {
      "provenance": [],
      "authorship_tag": "ABX9TyOoCSliKEkyHGgoQg8bsqOB",
      "include_colab_link": true
    },
    "kernelspec": {
      "name": "python3",
      "display_name": "Python 3"
    },
    "language_info": {
      "name": "python"
    },
    "widgets": {
      "application/vnd.jupyter.widget-state+json": {
        "96bd1370b45c47f79f9bd350bcfce3a6": {
          "model_module": "@jupyter-widgets/output",
          "model_name": "OutputModel",
          "model_module_version": "1.0.0",
          "state": {
            "_dom_classes": [],
            "_model_module": "@jupyter-widgets/output",
            "_model_module_version": "1.0.0",
            "_model_name": "OutputModel",
            "_view_count": null,
            "_view_module": "@jupyter-widgets/output",
            "_view_module_version": "1.0.0",
            "_view_name": "OutputView",
            "layout": "IPY_MODEL_30c2ce63789f48ba8cf69904c4e9ed2d",
            "msg_id": "",
            "outputs": [
              {
                "output_type": "display_data",
                "data": {
                  "text/plain": "Sampling 4 chains, 0 divergences \u001b[32m━━━━━━━━━━━━━━━━━━━━━━━━━━━━━━━━━━━━━━━━\u001b[0m \u001b[35m100%\u001b[0m \u001b[36m0:00:00\u001b[0m / \u001b[33m0:03:22\u001b[0m\n",
                  "text/html": "<pre style=\"white-space:pre;overflow-x:auto;line-height:normal;font-family:Menlo,'DejaVu Sans Mono',consolas,'Courier New',monospace\">Sampling 4 chains, 0 divergences <span style=\"color: #008000; text-decoration-color: #008000\">━━━━━━━━━━━━━━━━━━━━━━━━━━━━━━━━━━━━━━━━</span> <span style=\"color: #800080; text-decoration-color: #800080\">100%</span> <span style=\"color: #008080; text-decoration-color: #008080\">0:00:00</span> / <span style=\"color: #808000; text-decoration-color: #808000\">0:03:22</span>\n</pre>\n"
                },
                "metadata": {}
              }
            ]
          }
        },
        "30c2ce63789f48ba8cf69904c4e9ed2d": {
          "model_module": "@jupyter-widgets/base",
          "model_name": "LayoutModel",
          "model_module_version": "1.2.0",
          "state": {
            "_model_module": "@jupyter-widgets/base",
            "_model_module_version": "1.2.0",
            "_model_name": "LayoutModel",
            "_view_count": null,
            "_view_module": "@jupyter-widgets/base",
            "_view_module_version": "1.2.0",
            "_view_name": "LayoutView",
            "align_content": null,
            "align_items": null,
            "align_self": null,
            "border": null,
            "bottom": null,
            "display": null,
            "flex": null,
            "flex_flow": null,
            "grid_area": null,
            "grid_auto_columns": null,
            "grid_auto_flow": null,
            "grid_auto_rows": null,
            "grid_column": null,
            "grid_gap": null,
            "grid_row": null,
            "grid_template_areas": null,
            "grid_template_columns": null,
            "grid_template_rows": null,
            "height": null,
            "justify_content": null,
            "justify_items": null,
            "left": null,
            "margin": null,
            "max_height": null,
            "max_width": null,
            "min_height": null,
            "min_width": null,
            "object_fit": null,
            "object_position": null,
            "order": null,
            "overflow": null,
            "overflow_x": null,
            "overflow_y": null,
            "padding": null,
            "right": null,
            "top": null,
            "visibility": null,
            "width": null
          }
        }
      }
    }
  },
  "cells": [
    {
      "cell_type": "markdown",
      "metadata": {
        "id": "view-in-github",
        "colab_type": "text"
      },
      "source": [
        "<a href=\"https://colab.research.google.com/github/Gustavo-Ros/Simulaci-n-2/blob/main/Frecuentistas_vs_Bayesianos.ipynb\" target=\"_parent\"><img src=\"https://colab.research.google.com/assets/colab-badge.svg\" alt=\"Open In Colab\"/></a>"
      ]
    },
    {
      "cell_type": "markdown",
      "source": [
        "# DIFERENCIAS ENTRE ENFOQUE FRECUENTISTAS Y BAYESIANOS\n",
        "\n",
        "La principal diferencia o desacuerdo entre el enfoque frecuentista y el enfoque bayesiano radica en como se defina la probabilidad:\n",
        "\n",
        "\n",
        "*   **Enfoque frecuentista**: La probabilidad es definida como la frecuencia en la que ocurre un evento tras un gran número de repeticiones. La probabilidad solo tiene significado en terminos de un caso limitado de repetidas mediciones.\n",
        "\n",
        "*   **Enfoque bayesiano**: La probabilidad se define sobre una suposicion o conocimiento inicial de un evento, la cual se actualiza y se vuelve más precisa conforme se obtiene más información.\n",
        "\n",
        "En el artículo se muestran diferentes ejemplos y como se resuelven utilizando ambos enfoques:"
      ],
      "metadata": {
        "id": "_MBI_xrsLdlo"
      }
    },
    {
      "cell_type": "markdown",
      "source": [
        "## EJEMPLO 1.- MEDICIONES DE FLUJO DE FOTONES"
      ],
      "metadata": {
        "id": "_gAxySnJM5CU"
      }
    },
    {
      "cell_type": "markdown",
      "source": [
        "Se apunta un telescopio al cielo y se observa la luz que proviene de una sola estrella. EL flujo de fotones es constante con el tiempo, es decir $F$ esta fija. Dado un número $i$ de mediciones que tienen un flujo $F_i$ y un error $e_i^2$, se desea estimar el valor real de $F$"
      ],
      "metadata": {
        "id": "i-Iu25u3iTZz"
      }
    },
    {
      "cell_type": "markdown",
      "source": [
        "### ENFOQUE FRECUENTISTA\n",
        "\n",
        "Se utiliza la máxima verosimilitud , asumiendo que los errores $e_i^2$ son Gaussianos. El estimador que se utiliza es la media\n",
        "\n",
        "$$ \\hat{F}=\\frac{\\sum w_i F_i}{\\sum w_i}; \\hspace{4mm} w_i=1 / e_i^2$$"
      ],
      "metadata": {
        "id": "U5hDUg_w4zCY"
      }
    },
    {
      "cell_type": "code",
      "execution_count": 1,
      "metadata": {
        "id": "wzOLbS764abj"
      },
      "outputs": [],
      "source": [
        "import random as rnd\n",
        "import numpy as np\n",
        "import matplotlib.pyplot as plt"
      ]
    },
    {
      "cell_type": "code",
      "source": [
        "np.random.seed(2)            #Semilla para reproducibilidad\n",
        "e=np.random.normal(30,3,50)\n",
        "F=np.random.normal(1000,e)"
      ],
      "metadata": {
        "id": "gUm7hUre4gnm"
      },
      "execution_count": 5,
      "outputs": []
    },
    {
      "cell_type": "code",
      "source": [
        "w=1./e**2\n",
        "F_hat=np.sum(w*F)/np.sum(w)     #Estimador F\n",
        "sigma_F=w.sum()**-0.5           #Desviación estándar del estimador (error)\n",
        "print(\"Estimación: \" ,F_hat)\n",
        "print(\"Error: \",sigma_F)"
      ],
      "metadata": {
        "colab": {
          "base_uri": "https://localhost:8080/"
        },
        "id": "hCEoRtnl41P4",
        "outputId": "326a7a6c-faee-4879-b659-e4d46b626e10"
      },
      "execution_count": 6,
      "outputs": [
        {
          "output_type": "stream",
          "name": "stdout",
          "text": [
            "Estimación:  998.6496963757094\n",
            "Error:  4.113743971231106\n"
          ]
        }
      ]
    },
    {
      "cell_type": "markdown",
      "source": [
        "Finalmente, la estimación realizada es $$\\hat{F}=999 \\pm 4$$"
      ],
      "metadata": {
        "id": "ZqL1oizHq8uG"
      }
    },
    {
      "cell_type": "markdown",
      "source": [
        "### ENFOQUE BAYESIANO\n",
        "\n",
        "Se utiliza el enfoque Bayesiano : $$P( F | D) = \\frac{P(D|F)P(F)}{P(D)}$$\n",
        "Donde\n",
        "\n",
        "\n",
        "*   $P(F|D)$ : La probabilidad de los paramteros del problema segun los datos dados.\n",
        "*   $P(D|F)$ : La probabilidad, que es proporcional a la probabilidad usada en el enoque frecuentista.\n",
        "*   $P(F)$ : Que codifica lo que se sabia del problema antes de considerar los datos $D$\n",
        "*   $P(D)$ :  La evidencia del modelo, que en la práctoca equivale a siples términos normalizados.\n",
        "\n"
      ],
      "metadata": {
        "id": "bNihyef46jYV"
      }
    },
    {
      "cell_type": "markdown",
      "source": [
        "## EJEMPLO 2.-  EL JUEGO DE BILLAR DE BAYES\n",
        "\n",
        "2 individuos juegan en una mesa de billar, hay pone en un marca en un sitio que los 2 jugadores descononcen, el juego consiste en que al tirar una bola (con la misma probabilidad de caer en cualquier lado de la mesa), si la bola cae del lado derecho de la marca, el primer jugador obtiene un punto, si cae del lado izquierdo, el segundo jugador obtiene un punto.\n",
        "\n",
        "Después de 8 tiros, el jugador 1 tiene 5 puntos y el jugador 2 tiene 3 puntos. **¿Cuál es la probabilidad de que el jugador 2 obtenga 6 puntos y gane?**\n",
        "\n",
        "### ENFOQUE FRECUENTISTA\n",
        "\n",
        "Se utiliza l amáxima verosimilitud, la cual , segun los eventos del juego, es $$\\hat{p}=5/8$$\n",
        "Luego, la probabilidad de que el jugador obtenga 3 puntos seguidos y gane esta dada por $$P(B)=(1-\\hat{p})^3=0.053$$"
      ],
      "metadata": {
        "id": "lSnxHE0n65S9"
      }
    },
    {
      "cell_type": "markdown",
      "source": [
        "### ENFOQUE BAYESIANO\n",
        "\n",
        "Se utiliza la marginalidad sobre la probabilidad de que la bola caiga del lado del derecho de la marca (que el jugador 1 obtenga un punto) para integrar la incertidumbre sobre  donde está la marca:\n",
        "\n",
        "$$P(B|D)= \\frac{\\int_0^1(1-p)^6p^5dp}{\\int_0^1(1-p)^3p^5dp}$$"
      ],
      "metadata": {
        "id": "WnC0_N2FwQoI"
      }
    },
    {
      "cell_type": "code",
      "source": [
        "from scipy.special import beta\n",
        "P_B_D= beta(6+1,5+1)/ beta(3+1,5+1)   #Las integrales son ejemplos de la funcion beta\n",
        "P_B_D"
      ],
      "metadata": {
        "colab": {
          "base_uri": "https://localhost:8080/"
        },
        "id": "5Fr4-uVc7Fu_",
        "outputId": "693c78ae-74e8-4a04-88b6-65472f4af00f"
      },
      "execution_count": 7,
      "outputs": [
        {
          "output_type": "execute_result",
          "data": {
            "text/plain": [
              "0.09090909090909091"
            ]
          },
          "metadata": {},
          "execution_count": 7
        }
      ]
    },
    {
      "cell_type": "markdown",
      "source": [
        "Finalmente $$P(B|D) \\approx 0.091$$\n",
        "\n",
        "**Notar que el enfoque frecuentista no toma en cuenta la incertidumbre de la posición de la marca, en cambio, el enfoque Bayesiano si lo hace**"
      ],
      "metadata": {
        "id": "21MZ15zvxHu7"
      }
    },
    {
      "cell_type": "markdown",
      "source": [
        "## EJEMPLO 3.-  CONFIANZA VS CREDIBILIDAD: LA EXPONENCIAL TRUNCADA DE JAYNE\n",
        "\n",
        "Se observa el timepo que tienen los fallos de un dispositivo despupes de que inhibidor químico se agote. Se busca estimar el tiempo que transcurre mientras el equipos no presenta fallos.\n",
        "\n",
        "### ENFOQUE FRECUENTISTA\n",
        "\n",
        "Se calculan intervalos de confianza $\\theta$  y la maedia muestral para estimar el tiempo en que el equipo no falla.\n",
        "\n",
        "Sin emargo, divhos intervalos son $$CI(\\theta)=(10.2,12.5)$$ los cuales son valores muy por encima de de $\\theta \\leq 10$  "
      ],
      "metadata": {
        "id": "nzbaKNvmyNJ-"
      }
    },
    {
      "cell_type": "markdown",
      "source": [
        "### ENFOQUE GAUSSIANO\n",
        "\n",
        "Se utiliza $P(F)$ y el teorema de Bayes para obtener una distribución. Los intervalos creibles son $$CR(\\theta)=(9.00, 10.0)$$\n",
        "los cuales presetan valores que respetan $\\theta \\leq 10$\n",
        "\n"
      ],
      "metadata": {
        "id": "bMkCdm3a0mgX"
      }
    },
    {
      "cell_type": "markdown",
      "source": [
        "## EJEMPLO 4.- ENFOQUE BAYESINAO EN PRACTICA: CADENA DE MARKOV MONTE CARLO\n"
      ],
      "metadata": {
        "id": "d8f-C7tI7W1Y"
      }
    },
    {
      "cell_type": "markdown",
      "source": [
        "###MODELO LINEAL SIMPLE\n",
        "\n",
        "Se busc aajustar una linea de tres parámetros (la intersección $\\alpha$, la pendiente $\\beta$ y la dispersión de datos $\\sigma$) a un conjunto de datos con errores desconocidos.\n",
        "\n",
        "Se tienen los datos $D= \\lbrace x_i,y_i \\rbrace$, el modelo es $$\\hat{y}(x_i | \\alpha,\\beta)=\\alpha+\\beta x_i$$\n",
        "yla probabilidad es el producto de la distribucioón Gaussiana para cada punto\n",
        "\n",
        "$$L(D|α, β, σ)=(2\\pi σ^2)^{-N/2} ∏_{I=1}^{N} exp \\left[ \\frac{-[y_i-\\hat{y}(x_i|α,β)]^2}{2 σ^2} \\right]$$\n",
        "\n",
        "Se evalua este modelo en el siguiente código:"
      ],
      "metadata": {
        "id": "2p47H9_a5zxL"
      }
    },
    {
      "cell_type": "markdown",
      "source": [
        "\n",
        "### ENFOQUE FRECUENTISTA\n",
        "\n",
        "Se utiliza regresión lineal y la máxima verosimilitud para obtener los valores optimos de los 3 parámetros.\n",
        "\n",
        "Se asume además, que los errores tienen una dsitribución normal.\n",
        "\n",
        "Se define:\n",
        " * El vector parámetro $\\theta=[α \\;\\; \\beta]^{T}$\n",
        " * El vector respuesta $Y=[y_1\\;y_2\\;y_3\\; ... y_N]^T$\n",
        " * Y la matriz de diseño :\n",
        " $$ X = \\left[ \\begin{matrix} 1 & 1 & 1 & ... & 1 \\\\ x_1 & x_2 &x_3 & ... & x_N \\end{matrix} \\right] ^T$$\n",
        "\n",
        " Además, la solución de la máxima verosimilitud $\\hat{\\theta}=(X^TX)^{-1}(X^TY)$\n",
        "\n",
        " El intervalo de confianza es una elispe cuyos parámetros están definidos por la matriz: $$Σ_{\\hat{\\theta}} \\equiv \\left[ \\begin{matrix} \\sigma_{\\alpha}^2 & \\sigma_{α β} \\\\ σ_{α β} & σ_{α}^2 \\end{matrix} \\right]=σ^2(M^TM)^{-1}$$\n",
        "\n",
        " En código:"
      ],
      "metadata": {
        "id": "BIWbeL_n4XfK"
      }
    },
    {
      "cell_type": "code",
      "source": [
        "np.random.seed(42)                        #Semilla para reproducibilidad\n",
        "theta_true=(25,0.5)                       #Valores realesde los parametros theta\n",
        "xdata=100*np.random.rand(20)              #Valores aleatorios\n",
        "ydata=theta_true[0]+theta_true[1]*xdata   #Valores reales de y\n",
        "ydata=np.random.normal(ydata,10)"
      ],
      "metadata": {
        "id": "DJc9rxAo7dqZ"
      },
      "execution_count": 9,
      "outputs": []
    },
    {
      "cell_type": "code",
      "source": [
        "x=np.vstack([np.ones_like(xdata),xdata]).T                  #Matriz de diseño\n",
        "theta_hat=np.linalg.solve(np.dot(x.T,x),np.dot(x.T,ydata))  #Coef de regresión\n",
        "y_hat=np.dot(x,theta_hat)                                   #Estimaciones de y\n",
        "sigma_hat=np.std(ydata-y_hat)                               #Desviación estandar (error)\n",
        "sigma=sigma_hat**2 * np.linalg.inv(np.dot(x,x.T))           #Matriz de theta"
      ],
      "metadata": {
        "id": "m2LQO8JB75SM"
      },
      "execution_count": 10,
      "outputs": []
    },
    {
      "cell_type": "code",
      "source": [
        "import statsmodels.api as sm\n",
        "X=sm.add_constant(xdata)\n",
        "result=sm.OLS(ydata,X).fit()              #Ajusta modelo de regresion OLS\n",
        "sigma_hat=result.params                   #Parámetros estimados\n",
        "Sigma=result.cov_params()                 #Matriz de covarianza de los parámetros\n",
        "print(result.summary2())                  #Resumen del modelo\n"
      ],
      "metadata": {
        "colab": {
          "base_uri": "https://localhost:8080/"
        },
        "id": "Ux4jlZTe8yYH",
        "outputId": "cde1fe78-796c-48a1-d794-e7b3a83ccf23",
        "collapsed": true
      },
      "execution_count": 11,
      "outputs": [
        {
          "output_type": "stream",
          "name": "stdout",
          "text": [
            "                 Results: Ordinary least squares\n",
            "=================================================================\n",
            "Model:              OLS              Adj. R-squared:     0.683   \n",
            "Dependent Variable: y                AIC:                147.7737\n",
            "Date:               2024-10-12 05:11 BIC:                149.7651\n",
            "No. Observations:   20               Log-Likelihood:     -71.887 \n",
            "Df Model:           1                F-statistic:        41.97   \n",
            "Df Residuals:       18               Prob (F-statistic): 4.30e-06\n",
            "R-squared:          0.700            Scale:              86.157  \n",
            "-------------------------------------------------------------------\n",
            "            Coef.    Std.Err.     t      P>|t|     [0.025    0.975]\n",
            "-------------------------------------------------------------------\n",
            "const      24.6361     3.7871   6.5053   0.0000   16.6797   32.5924\n",
            "x1          0.4483     0.0692   6.4782   0.0000    0.3029    0.5937\n",
            "-----------------------------------------------------------------\n",
            "Omnibus:              1.996        Durbin-Watson:           2.758\n",
            "Prob(Omnibus):        0.369        Jarque-Bera (JB):        1.634\n",
            "Skew:                 0.651        Prob(JB):                0.442\n",
            "Kurtosis:             2.486        Condition No.:           100  \n",
            "=================================================================\n",
            "Notes:\n",
            "[1] Standard Errors assume that the covariance matrix of the\n",
            "errors is correctly specified.\n"
          ]
        }
      ]
    },
    {
      "cell_type": "markdown",
      "source": [
        "### ENFOQUE BAYESIANO\n",
        "\n",
        "El enfoque Bayesiano se encapsula en $P(F|D)$ , que es proporcional producto de máxima veromilitud por $P(F)$.\n",
        "\n",
        "Se utiliza el teorema de Bayes junto con el método de Cadenas de Markov Monte Cralo.\n",
        "\n",
        "En código:"
      ],
      "metadata": {
        "id": "Pw7j_ms58nZW"
      }
    },
    {
      "cell_type": "code",
      "source": [
        "!pip install emcee"
      ],
      "metadata": {
        "colab": {
          "base_uri": "https://localhost:8080/"
        },
        "id": "gYX5CohTWol8",
        "outputId": "6ba72764-a5c8-4bc6-b873-eb68bd38c770",
        "collapsed": true
      },
      "execution_count": 12,
      "outputs": [
        {
          "output_type": "stream",
          "name": "stdout",
          "text": [
            "Collecting emcee\n",
            "  Downloading emcee-3.1.6-py2.py3-none-any.whl.metadata (3.0 kB)\n",
            "Requirement already satisfied: numpy in /usr/local/lib/python3.10/dist-packages (from emcee) (1.26.4)\n",
            "Downloading emcee-3.1.6-py2.py3-none-any.whl (47 kB)\n",
            "\u001b[?25l   \u001b[90m━━━━━━━━━━━━━━━━━━━━━━━━━━━━━━━━━━━━━━━━\u001b[0m \u001b[32m0.0/47.4 kB\u001b[0m \u001b[31m?\u001b[0m eta \u001b[36m-:--:--\u001b[0m\r\u001b[2K   \u001b[90m━━━━━━━━━━━━━━━━━━━━━━━━━━━━━━━━━━━━━━━━\u001b[0m \u001b[32m47.4/47.4 kB\u001b[0m \u001b[31m3.4 MB/s\u001b[0m eta \u001b[36m0:00:00\u001b[0m\n",
            "\u001b[?25hInstalling collected packages: emcee\n",
            "Successfully installed emcee-3.1.6\n"
          ]
        }
      ]
    },
    {
      "cell_type": "code",
      "source": [
        "import emcee # version 2.0\n",
        "def log_prior(theta):                                #Funcion prior  P(F)\n",
        "  alpha, beta, sigma = theta\n",
        "  if sigma < 0:\n",
        "    return -np.inf # log(0)\n",
        "  else:\n",
        "    return (-1.5 * np.log(1 + beta**2)- np.log(sigma))\n",
        "\n",
        "def log_like(theta, x, y):                           #Funcion de verosimilitud\n",
        "    alpha, beta, sigma = theta\n",
        "    y_model = alpha + beta * x\n",
        "    return -0.5 * np.sum(np.log(2*np.pi*sigma**2)+(y-y_model)**2 / sigma**2)\n",
        "\n",
        "def log_posterior(theta, x, y):                      #Funcion posterior P(F|D)\n",
        "  return log_prior(theta) + log_like(theta,x,y)\n"
      ],
      "metadata": {
        "id": "GuDfJXIXeqV1"
      },
      "execution_count": 14,
      "outputs": []
    },
    {
      "cell_type": "code",
      "source": [
        "ndim = 3        #Parametros\n",
        "nwalkers = 50   #Numero de caminantes\n",
        "nburn = 1000    #Iteraciones\n",
        "nsteps = 2000   #Numeor de pasos\n",
        "starting_guesses = np.random.rand(nwalkers, ndim)"
      ],
      "metadata": {
        "id": "ATKQhhphW9bD"
      },
      "execution_count": 16,
      "outputs": []
    },
    {
      "cell_type": "code",
      "source": [
        "sampler = emcee.EnsembleSampler(nwalkers, ndim,log_posterior,args=[xdata,ydata])\n",
        "sampler.run_mcmc(starting_guesses, nsteps)        #Muestrep MCMM\n",
        "trace = sampler.chain[:, nburn:, :]\n",
        "trace = trace.reshape(-1, ndim).T"
      ],
      "metadata": {
        "id": "-Dl4F3h8XFZD"
      },
      "execution_count": 18,
      "outputs": []
    },
    {
      "cell_type": "code",
      "source": [
        "import pymc as pm"
      ],
      "metadata": {
        "id": "P3wTd3frhWW5"
      },
      "execution_count": 19,
      "outputs": []
    },
    {
      "cell_type": "code",
      "source": [
        "import pymc as pm\n",
        "basic_model = pm.Model()\n",
        "\n",
        "with basic_model:\n",
        "    #Funcion prior P(F) para los 3 parametros\n",
        "    alpha = pm.Normal(\"alpha\", mu=-100, sigma=100)\n",
        "    beta = pm.Normal(\"beta\", mu=0, sigma=10, shape=2)\n",
        "    sigma = pm.HalfNormal(\"sigma\", sigma=1)\n",
        "\n",
        "    mu = alpha + beta[0] * xdata  #Valor esperado\n",
        "\n",
        "    y = pm.Normal(\"Y_obs\", mu=mu, sigma=sigma, observed=ydata)  #Verosimilitud\n",
        "\n",
        "    y_model = pm.Deterministic(\"y_model\", mu)\n",
        "\n",
        "\n",
        "    model = dict(alpha=alpha, beta=beta, sigma=sigma,y_model=y_model, y=y)\n",
        "\n",
        "    trace = pm.sample(10000, tune=5000, chains=4, cores=4)\n"
      ],
      "metadata": {
        "colab": {
          "base_uri": "https://localhost:8080/",
          "height": 33,
          "referenced_widgets": [
            "96bd1370b45c47f79f9bd350bcfce3a6",
            "30c2ce63789f48ba8cf69904c4e9ed2d"
          ]
        },
        "id": "9xLJHaFQiDxL",
        "outputId": "149073f2-5f26-4b52-8c43-a7ddc6b59a06"
      },
      "execution_count": 20,
      "outputs": [
        {
          "output_type": "display_data",
          "data": {
            "text/plain": [
              "Output()"
            ],
            "application/vnd.jupyter.widget-view+json": {
              "version_major": 2,
              "version_minor": 0,
              "model_id": "96bd1370b45c47f79f9bd350bcfce3a6"
            }
          },
          "metadata": {}
        },
        {
          "output_type": "display_data",
          "data": {
            "text/plain": [],
            "text/html": [
              "<pre style=\"white-space:pre;overflow-x:auto;line-height:normal;font-family:Menlo,'DejaVu Sans Mono',consolas,'Courier New',monospace\"></pre>\n"
            ]
          },
          "metadata": {}
        }
      ]
    },
    {
      "cell_type": "code",
      "source": [
        "!pip install stan"
      ],
      "metadata": {
        "colab": {
          "base_uri": "https://localhost:8080/"
        },
        "id": "8C3uER0Iw7zA",
        "outputId": "bad74211-29bc-4427-c003-f8fe2e73f934",
        "collapsed": true
      },
      "execution_count": 21,
      "outputs": [
        {
          "output_type": "stream",
          "name": "stdout",
          "text": [
            "Collecting stan\n",
            "  Downloading stan-1.0.tar.gz (717 bytes)\n",
            "  Preparing metadata (setup.py) ... \u001b[?25l\u001b[?25hdone\n",
            "Building wheels for collected packages: stan\n",
            "  \u001b[1;31merror\u001b[0m: \u001b[1msubprocess-exited-with-error\u001b[0m\n",
            "  \n",
            "  \u001b[31m×\u001b[0m \u001b[32mpython setup.py bdist_wheel\u001b[0m did not run successfully.\n",
            "  \u001b[31m│\u001b[0m exit code: \u001b[1;36m1\u001b[0m\n",
            "  \u001b[31m╰─>\u001b[0m See above for output.\n",
            "  \n",
            "  \u001b[1;35mnote\u001b[0m: This error originates from a subprocess, and is likely not a problem with pip.\n",
            "  Building wheel for stan (setup.py) ... \u001b[?25lerror\n",
            "\u001b[31m  ERROR: Failed building wheel for stan\u001b[0m\u001b[31m\n",
            "\u001b[0m\u001b[?25h  Running setup.py clean for stan\n",
            "Failed to build stan\n",
            "\u001b[31mERROR: ERROR: Failed to build installable wheels for some pyproject.toml based projects (stan)\u001b[0m\u001b[31m\n",
            "\u001b[0m"
          ]
        }
      ]
    },
    {
      "cell_type": "code",
      "source": [
        "!pip install pystan\n",
        "import pystan\n",
        "model_code = \"\"\"\n",
        "data {\n",
        "int<lower=0> N; // number of points\n",
        "real x[N]; // x values\n",
        "real y[N]; // y values\n",
        "}\n",
        "parameters {\n",
        "real alpha_perp;\n",
        "real<lower=-pi()/2, upper=pi()/2> theta;\n",
        "real log_sigma;\n",
        "}\n",
        "transformed parameters {\n",
        "real alpha;\n",
        "real beta;\n",
        "real sigma;\n",
        "real ymodel[N];\n",
        "alpha <- alpha_perp / cos(theta);\n",
        "beta <- sin(theta);\n",
        "sigma <- exp(log_sigma);\n",
        "for (j in 1:N)\n",
        "ymodel[j] <- alpha + beta * x[j];\n",
        "}\n",
        "model {\n",
        "y ~ normal(ymodel, sigma);\n",
        "}\n",
        "\"\"\"\n",
        "# perform the fit & extract traces\n",
        "data = {'N': len(xdata), 'x': xdata, 'y': ydata}\n",
        "fit = pystan.stan(model_code=model_code, data=data,iter=25000, chains=4)\n",
        "tr = fit.extract()\n",
        "trace = [tr['alpha'], tr['beta'], tr['sigma']]\n"
      ],
      "metadata": {
        "colab": {
          "base_uri": "https://localhost:8080/",
          "height": 803
        },
        "id": "kzUKQEzIvzJZ",
        "outputId": "0a57a15a-6fcb-47d5-f9e4-9886fad6ca1c",
        "collapsed": true
      },
      "execution_count": 29,
      "outputs": [
        {
          "output_type": "stream",
          "name": "stdout",
          "text": [
            "Requirement already satisfied: pystan in /usr/local/lib/python3.10/dist-packages (3.10.0)\n",
            "Requirement already satisfied: aiohttp<4.0,>=3.6 in /usr/local/lib/python3.10/dist-packages (from pystan) (3.10.9)\n",
            "Requirement already satisfied: clikit<0.7,>=0.6 in /usr/local/lib/python3.10/dist-packages (from pystan) (0.6.2)\n",
            "Requirement already satisfied: httpstan<4.14,>=4.13 in /usr/local/lib/python3.10/dist-packages (from pystan) (4.13.0)\n",
            "Requirement already satisfied: numpy>=1.19 in /usr/local/lib/python3.10/dist-packages (from pystan) (1.26.4)\n",
            "Requirement already satisfied: pysimdjson<7,>=5.0.2 in /usr/local/lib/python3.10/dist-packages (from pystan) (6.0.2)\n",
            "Requirement already satisfied: setuptools in /usr/local/lib/python3.10/dist-packages (from pystan) (71.0.4)\n",
            "Requirement already satisfied: aiohappyeyeballs>=2.3.0 in /usr/local/lib/python3.10/dist-packages (from aiohttp<4.0,>=3.6->pystan) (2.4.3)\n",
            "Requirement already satisfied: aiosignal>=1.1.2 in /usr/local/lib/python3.10/dist-packages (from aiohttp<4.0,>=3.6->pystan) (1.3.1)\n",
            "Requirement already satisfied: attrs>=17.3.0 in /usr/local/lib/python3.10/dist-packages (from aiohttp<4.0,>=3.6->pystan) (24.2.0)\n",
            "Requirement already satisfied: frozenlist>=1.1.1 in /usr/local/lib/python3.10/dist-packages (from aiohttp<4.0,>=3.6->pystan) (1.4.1)\n",
            "Requirement already satisfied: multidict<7.0,>=4.5 in /usr/local/lib/python3.10/dist-packages (from aiohttp<4.0,>=3.6->pystan) (6.1.0)\n",
            "Requirement already satisfied: yarl<2.0,>=1.12.0 in /usr/local/lib/python3.10/dist-packages (from aiohttp<4.0,>=3.6->pystan) (1.13.1)\n",
            "Requirement already satisfied: async-timeout<5.0,>=4.0 in /usr/local/lib/python3.10/dist-packages (from aiohttp<4.0,>=3.6->pystan) (4.0.3)\n",
            "Requirement already satisfied: crashtest<0.4.0,>=0.3.0 in /usr/local/lib/python3.10/dist-packages (from clikit<0.7,>=0.6->pystan) (0.3.1)\n",
            "Requirement already satisfied: pastel<0.3.0,>=0.2.0 in /usr/local/lib/python3.10/dist-packages (from clikit<0.7,>=0.6->pystan) (0.2.1)\n",
            "Requirement already satisfied: pylev<2.0,>=1.3 in /usr/local/lib/python3.10/dist-packages (from clikit<0.7,>=0.6->pystan) (1.4.0)\n",
            "Requirement already satisfied: appdirs<2.0,>=1.4 in /usr/local/lib/python3.10/dist-packages (from httpstan<4.14,>=4.13->pystan) (1.4.4)\n",
            "Requirement already satisfied: marshmallow<4.0,>=3.10 in /usr/local/lib/python3.10/dist-packages (from httpstan<4.14,>=4.13->pystan) (3.22.0)\n",
            "Requirement already satisfied: webargs<9.0,>=8.0 in /usr/local/lib/python3.10/dist-packages (from httpstan<4.14,>=4.13->pystan) (8.6.0)\n",
            "Requirement already satisfied: packaging>=17.0 in /usr/local/lib/python3.10/dist-packages (from marshmallow<4.0,>=3.10->httpstan<4.14,>=4.13->pystan) (24.1)\n",
            "Requirement already satisfied: typing-extensions>=4.1.0 in /usr/local/lib/python3.10/dist-packages (from multidict<7.0,>=4.5->aiohttp<4.0,>=3.6->pystan) (4.12.2)\n",
            "Requirement already satisfied: idna>=2.0 in /usr/local/lib/python3.10/dist-packages (from yarl<2.0,>=1.12.0->aiohttp<4.0,>=3.6->pystan) (3.10)\n"
          ]
        },
        {
          "output_type": "error",
          "ename": "ModuleNotFoundError",
          "evalue": "No module named 'pystan'",
          "traceback": [
            "\u001b[0;31m---------------------------------------------------------------------------\u001b[0m",
            "\u001b[0;31mModuleNotFoundError\u001b[0m                       Traceback (most recent call last)",
            "\u001b[0;32m<ipython-input-29-254c8e23bb61>\u001b[0m in \u001b[0;36m<cell line: 2>\u001b[0;34m()\u001b[0m\n\u001b[1;32m      1\u001b[0m \u001b[0mget_ipython\u001b[0m\u001b[0;34m(\u001b[0m\u001b[0;34m)\u001b[0m\u001b[0;34m.\u001b[0m\u001b[0msystem\u001b[0m\u001b[0;34m(\u001b[0m\u001b[0;34m'pip install pystan'\u001b[0m\u001b[0;34m)\u001b[0m\u001b[0;34m\u001b[0m\u001b[0;34m\u001b[0m\u001b[0m\n\u001b[0;32m----> 2\u001b[0;31m \u001b[0;32mimport\u001b[0m \u001b[0mpystan\u001b[0m\u001b[0;34m\u001b[0m\u001b[0;34m\u001b[0m\u001b[0m\n\u001b[0m\u001b[1;32m      3\u001b[0m model_code = \"\"\"\n\u001b[1;32m      4\u001b[0m data {\n\u001b[1;32m      5\u001b[0m \u001b[0mint\u001b[0m\u001b[0;34m<\u001b[0m\u001b[0mlower\u001b[0m\u001b[0;34m=\u001b[0m\u001b[0;36m0\u001b[0m\u001b[0;34m>\u001b[0m \u001b[0mN\u001b[0m\u001b[0;34m;\u001b[0m \u001b[0;34m//\u001b[0m \u001b[0mnumber\u001b[0m \u001b[0mof\u001b[0m \u001b[0mpoints\u001b[0m\u001b[0;34m\u001b[0m\u001b[0;34m\u001b[0m\u001b[0m\n",
            "\u001b[0;31mModuleNotFoundError\u001b[0m: No module named 'pystan'",
            "",
            "\u001b[0;31m---------------------------------------------------------------------------\u001b[0;32m\nNOTE: If your import is failing due to a missing package, you can\nmanually install dependencies using either !pip or !apt.\n\nTo view examples of installing some common dependencies, click the\n\"Open Examples\" button below.\n\u001b[0;31m---------------------------------------------------------------------------\u001b[0m\n"
          ],
          "errorDetails": {
            "actions": [
              {
                "action": "open_url",
                "actionText": "Open Examples",
                "url": "/notebooks/snippets/importing_libraries.ipynb"
              }
            ]
          }
        }
      ]
    }
  ]
}