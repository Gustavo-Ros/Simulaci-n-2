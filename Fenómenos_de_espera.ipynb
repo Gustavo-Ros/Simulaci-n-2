{
  "nbformat": 4,
  "nbformat_minor": 0,
  "metadata": {
    "colab": {
      "provenance": [],
      "authorship_tag": "ABX9TyOMgPbCH7PJO5h2yLC3NN7x",
      "include_colab_link": true
    },
    "kernelspec": {
      "name": "python3",
      "display_name": "Python 3"
    },
    "language_info": {
      "name": "python"
    }
  },
  "cells": [
    {
      "cell_type": "markdown",
      "metadata": {
        "id": "view-in-github",
        "colab_type": "text"
      },
      "source": [
        "<a href=\"https://colab.research.google.com/github/Gustavo-Ros/Simulaci-n-2/blob/main/Fen%C3%B3menos_de_espera.ipynb\" target=\"_parent\"><img src=\"https://colab.research.google.com/assets/colab-badge.svg\" alt=\"Open In Colab\"/></a>"
      ]
    },
    {
      "cell_type": "markdown",
      "source": [
        "# LINEAS DE ESPERA"
      ],
      "metadata": {
        "id": "gqD3wjqK8NBU"
      }
    },
    {
      "cell_type": "markdown",
      "source": [
        "Los fenómenos de espera, tiene los siguientes elementos en común:\n",
        "* Llegada al mostrador\n",
        "* Paso por uno o varios mostradores\n",
        "* Duración en los que se recibe la atencion con su propio modelo de probabilidad conocido\n",
        "\n",
        "Existen diferentes escenarios:"
      ],
      "metadata": {
        "id": "tZUuxoMT8Rk-"
      }
    },
    {
      "cell_type": "markdown",
      "source": [
        "## Escenario base\n"
      ],
      "metadata": {
        "id": "iE3R1gM79Hkx"
      }
    },
    {
      "cell_type": "code",
      "execution_count": null,
      "metadata": {
        "id": "O1NRXOpe65RU"
      },
      "outputs": [],
      "source": []
    }
  ]
}