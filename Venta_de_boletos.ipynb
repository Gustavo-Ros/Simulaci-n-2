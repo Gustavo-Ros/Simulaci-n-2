{
  "nbformat": 4,
  "nbformat_minor": 0,
  "metadata": {
    "colab": {
      "provenance": [],
      "authorship_tag": "ABX9TyNC716TiOZxgQeyKlGSLNgH",
      "include_colab_link": true
    },
    "kernelspec": {
      "name": "python3",
      "display_name": "Python 3"
    },
    "language_info": {
      "name": "python"
    }
  },
  "cells": [
    {
      "cell_type": "markdown",
      "metadata": {
        "id": "view-in-github",
        "colab_type": "text"
      },
      "source": [
        "<a href=\"https://colab.research.google.com/github/Gustavo-Ros/Simulaci-n-2/blob/main/Venta_de_boletos.ipynb\" target=\"_parent\"><img src=\"https://colab.research.google.com/assets/colab-badge.svg\" alt=\"Open In Colab\"/></a>"
      ]
    },
    {
      "cell_type": "markdown",
      "source": [
        "#VENTA DE BOLETOS TICKETMASTER (FILA VIRTUAL)\n",
        "\n",
        "Se simula la llegada de clientes a la fila virtual para la compra de boletos en Ticketmaster.\n",
        "\n",
        "Cada cliente llega en un tiempo aleatorio (siguiendo una distribución exponencial) y se registra el momento de su llegada."
      ],
      "metadata": {
        "id": "QqGsHF2ngX0K"
      }
    },
    {
      "cell_type": "code",
      "source": [
        "!pip install simpy"
      ],
      "metadata": {
        "colab": {
          "base_uri": "https://localhost:8080/"
        },
        "id": "FMVZXsDSQKu3",
        "outputId": "d3673870-868b-4f1f-96ca-a5b3a7a31d6f"
      },
      "execution_count": 2,
      "outputs": [
        {
          "output_type": "stream",
          "name": "stdout",
          "text": [
            "Collecting simpy\n",
            "  Downloading simpy-4.1.1-py3-none-any.whl.metadata (6.1 kB)\n",
            "Downloading simpy-4.1.1-py3-none-any.whl (27 kB)\n",
            "Installing collected packages: simpy\n",
            "Successfully installed simpy-4.1.1\n"
          ]
        }
      ]
    },
    {
      "cell_type": "code",
      "source": [
        "\n",
        "import matplotlib.pyplot as plt\n",
        "import numpy as np\n",
        "from random import random, seed\n",
        "import pandas as pd\n",
        "import simpy"
      ],
      "metadata": {
        "id": "vIl2YJ-aQOKQ"
      },
      "execution_count": 3,
      "outputs": []
    },
    {
      "cell_type": "code",
      "source": [
        "def venta_boletos(env, fila_virtual, num_clientes, texto=True):\n",
        "    global tasa_llegada, cifras, duracion_compra, tiempos_llegada, tiempos_compra, tiempos_salida\n",
        "\n",
        "    for i in range(num_clientes):\n",
        "        #Llegada del cliente a la fila virtual\n",
        "        r=random()\n",
        "        tiempo_llegada=-np.log(r)/tasa_llegada\n",
        "        yield env.timeout(tiempo_llegada)\n",
        "        tiempos_llegada.append(env.now)\n",
        "\n",
        "        if texto:\n",
        "            print(f'\\n----El cliente número {i} ha llegado a la fila virtual en el minuto {round(env.now, cifras)}----')\n",
        "\n",
        "        #Iniciar el proceso de compra para el cliente\n",
        "        env.process(compra_boletos(env, fila_virtual, i, texto))"
      ],
      "metadata": {
        "id": "VYlme2cKUp4c"
      },
      "execution_count": 21,
      "outputs": []
    },
    {
      "cell_type": "markdown",
      "source": [
        "Se sigue con el proceso de compra de boletos: el cliente espera su turno en la fila virtual, realiza la compra en un tiempo aleatorio y se registra el momento de inicio y fin de dicha compra."
      ],
      "metadata": {
        "id": "FA67PuoNhB3c"
      }
    },
    {
      "cell_type": "code",
      "source": [
        "def compra_boletos(env, fila_virtual, num_cliente, texto=True):\n",
        "    global duracion_compra, tiempos_compra, tiempos_salida, tiempo_compra_min, tiempo_compra_max\n",
        "\n",
        "    #Solicitud para iniciar la compra de boletos\n",
        "    with fila_virtual.request() as solicitud:\n",
        "        yield solicitud\n",
        "\n",
        "        #Se genera el tiempo de compra\n",
        "        r=random()\n",
        "        tiempo_compra=tiempo_compra_min+(tiempo_compra_max-tiempo_compra_min) * r\n",
        "        duracion_compra+=tiempo_compra\n",
        "        tiempos_compra.append(tiempo_compra)\n",
        "\n",
        "        if texto:\n",
        "            print(f'****El cliente {num_cliente} ha comenzado la compra en el minuto {round(env.now, cifras)}****')\n",
        "\n",
        "        #Tiempo en el sistema durante la compra de boletos\n",
        "        yield env.timeout(tiempo_compra)\n",
        "\n",
        "        #Registro del momento en que termina la compra\n",
        "        tiempos_salida.append(env.now)\n",
        "\n",
        "        if texto:\n",
        "            print(f'xxxEl cliente {num_cliente} ha terminado la compra en el minuto {round(env.now, cifras)}xxx')\n"
      ],
      "metadata": {
        "id": "BSqp8H7tU171"
      },
      "execution_count": 22,
      "outputs": []
    },
    {
      "cell_type": "code",
      "execution_count": 16,
      "metadata": {
        "id": "nAwCTkYdQECe"
      },
      "outputs": [],
      "source": [
        "#Variables globales para la simulación\n",
        "global tiempo_compra_min, tiempo_compra_max, tasa_llegada, num_boletos, cifras\n",
        "semilla=13\n",
        "seed(semilla)\n",
        "\n",
        "#Configuración de la simulación\n",
        "num_boletos=1\n",
        "tiempo_compra_min=1      # Tiempo mínimo de compra en minutos\n",
        "tiempo_compra_max=5      # Tiempo máximo de compra en minutos\n",
        "tasa_llegada=1/10      # Clientes llegan cada 10 minutos en promedio\n",
        "num_clientes=50           # Número de clientes en la simulación\n",
        "cifras=2                 # Número de decimales para los tiempos\n"
      ]
    },
    {
      "cell_type": "markdown",
      "source": [
        "Se escriben los parámetros iniciales para simular la compra de boletos,se determina el tiempo mínimo y máximo de compra, la tasa de llegada de los clientes y el número de boletos que se venderán."
      ],
      "metadata": {
        "id": "ht3tf1eoh59q"
      }
    },
    {
      "cell_type": "code",
      "source": [
        "global duracion_compra, tiempos_llegada, tiempos_compra, tiempos_salida\n",
        "duracion_compra=0\n",
        "tiempos_llegada=[]\n",
        "tiempos_compra=[]\n",
        "tiempos_salida=[]\n",
        "\n",
        "#Crear entorno de simulación y recurso (fila virtual)\n",
        "env=simpy.Environment()\n",
        "fila_virtual=simpy.Resource(env, capacity=num_boletos)\n",
        "\n",
        "#Proceso de venta de boletos\n",
        "env.process(venta_boletos(env, fila_virtual, num_clientes))\n",
        "\n",
        "env.run()\n"
      ],
      "metadata": {
        "colab": {
          "base_uri": "https://localhost:8080/"
        },
        "id": "neSJIyLXU7fj",
        "outputId": "fc598914-79d6-4e43-9b43-1dee71e491cc"
      },
      "execution_count": 23,
      "outputs": [
        {
          "output_type": "stream",
          "name": "stdout",
          "text": [
            "\n",
            "----El cliente número 0 ha llegado a la fila virtual en el minuto 3.34----\n",
            "****El cliente 0 ha comenzado la compra en el minuto 3.34****\n",
            "\n",
            "----El cliente número 1 ha llegado a la fila virtual en el minuto 4.77----\n",
            "\n",
            "----El cliente número 2 ha llegado a la fila virtual en el minuto 6.89----\n",
            "xxxEl cliente 0 ha terminado la compra en el minuto 8.34xxx\n",
            "****El cliente 1 ha comenzado la compra en el minuto 8.34****\n",
            "xxxEl cliente 1 ha terminado la compra en el minuto 11.83xxx\n",
            "****El cliente 2 ha comenzado la compra en el minuto 11.83****\n",
            "\n",
            "----El cliente número 3 ha llegado a la fila virtual en el minuto 15.46----\n",
            "xxxEl cliente 2 ha terminado la compra en el minuto 16.16xxx\n",
            "****El cliente 3 ha comenzado la compra en el minuto 16.16****\n",
            "xxxEl cliente 3 ha terminado la compra en el minuto 18.32xxx\n",
            "\n",
            "----El cliente número 4 ha llegado a la fila virtual en el minuto 18.8----\n",
            "****El cliente 4 ha comenzado la compra en el minuto 18.8****\n",
            "xxxEl cliente 4 ha terminado la compra en el minuto 20.24xxx\n",
            "\n",
            "----El cliente número 5 ha llegado a la fila virtual en el minuto 21.52----\n",
            "****El cliente 5 ha comenzado la compra en el minuto 21.52****\n",
            "xxxEl cliente 5 ha terminado la compra en el minuto 26.51xxx\n",
            "\n",
            "----El cliente número 6 ha llegado a la fila virtual en el minuto 33.28----\n",
            "****El cliente 6 ha comenzado la compra en el minuto 33.28****\n",
            "xxxEl cliente 6 ha terminado la compra en el minuto 35.36xxx\n",
            "\n",
            "----El cliente número 7 ha llegado a la fila virtual en el minuto 40.81----\n",
            "****El cliente 7 ha comenzado la compra en el minuto 40.81****\n",
            "\n",
            "----El cliente número 8 ha llegado a la fila virtual en el minuto 43.23----\n",
            "xxxEl cliente 7 ha terminado la compra en el minuto 43.61xxx\n",
            "****El cliente 8 ha comenzado la compra en el minuto 43.61****\n",
            "xxxEl cliente 8 ha terminado la compra en el minuto 44.73xxx\n",
            "\n",
            "----El cliente número 9 ha llegado a la fila virtual en el minuto 99.3----\n",
            "****El cliente 9 ha comenzado la compra en el minuto 99.3****\n",
            "xxxEl cliente 9 ha terminado la compra en el minuto 101.63xxx\n",
            "\n",
            "----El cliente número 10 ha llegado a la fila virtual en el minuto 112.81----\n",
            "****El cliente 10 ha comenzado la compra en el minuto 112.81****\n",
            "\n",
            "----El cliente número 11 ha llegado a la fila virtual en el minuto 113.46----\n",
            "xxxEl cliente 10 ha terminado la compra en el minuto 114.8xxx\n",
            "****El cliente 11 ha comenzado la compra en el minuto 114.8****\n",
            "\n",
            "----El cliente número 12 ha llegado a la fila virtual en el minuto 115.08----\n",
            "xxxEl cliente 11 ha terminado la compra en el minuto 119.21xxx\n",
            "****El cliente 12 ha comenzado la compra en el minuto 119.21****\n",
            "\n",
            "----El cliente número 13 ha llegado a la fila virtual en el minuto 123.85----\n",
            "xxxEl cliente 12 ha terminado la compra en el minuto 124.19xxx\n",
            "****El cliente 13 ha comenzado la compra en el minuto 124.19****\n",
            "\n",
            "----El cliente número 14 ha llegado a la fila virtual en el minuto 126.57----\n",
            "xxxEl cliente 13 ha terminado la compra en el minuto 127.12xxx\n",
            "****El cliente 14 ha comenzado la compra en el minuto 127.12****\n",
            "xxxEl cliente 14 ha terminado la compra en el minuto 129.97xxx\n",
            "\n",
            "----El cliente número 15 ha llegado a la fila virtual en el minuto 139.98----\n",
            "****El cliente 15 ha comenzado la compra en el minuto 139.98****\n",
            "\n",
            "----El cliente número 16 ha llegado a la fila virtual en el minuto 141.02----\n",
            "xxxEl cliente 15 ha terminado la compra en el minuto 143.13xxx\n",
            "****El cliente 16 ha comenzado la compra en el minuto 143.13****\n",
            "xxxEl cliente 16 ha terminado la compra en el minuto 145.63xxx\n",
            "\n",
            "----El cliente número 17 ha llegado a la fila virtual en el minuto 157.42----\n",
            "****El cliente 17 ha comenzado la compra en el minuto 157.42****\n",
            "xxxEl cliente 17 ha terminado la compra en el minuto 159.18xxx\n",
            "\n",
            "----El cliente número 18 ha llegado a la fila virtual en el minuto 164.84----\n",
            "****El cliente 18 ha comenzado la compra en el minuto 164.84****\n",
            "xxxEl cliente 18 ha terminado la compra en el minuto 165.98xxx\n",
            "\n",
            "----El cliente número 19 ha llegado a la fila virtual en el minuto 170.41----\n",
            "****El cliente 19 ha comenzado la compra en el minuto 170.41****\n",
            "xxxEl cliente 19 ha terminado la compra en el minuto 172.13xxx\n",
            "\n",
            "----El cliente número 20 ha llegado a la fila virtual en el minuto 172.38----\n",
            "****El cliente 20 ha comenzado la compra en el minuto 172.38****\n",
            "xxxEl cliente 20 ha terminado la compra en el minuto 175.74xxx\n",
            "\n",
            "----El cliente número 21 ha llegado a la fila virtual en el minuto 195.12----\n",
            "****El cliente 21 ha comenzado la compra en el minuto 195.12****\n",
            "xxxEl cliente 21 ha terminado la compra en el minuto 199.66xxx\n",
            "\n",
            "----El cliente número 22 ha llegado a la fila virtual en el minuto 206.92----\n",
            "****El cliente 22 ha comenzado la compra en el minuto 206.92****\n",
            "xxxEl cliente 22 ha terminado la compra en el minuto 210.01xxx\n",
            "\n",
            "----El cliente número 23 ha llegado a la fila virtual en el minuto 213.92----\n",
            "****El cliente 23 ha comenzado la compra en el minuto 213.92****\n",
            "\n",
            "----El cliente número 24 ha llegado a la fila virtual en el minuto 215.72----\n",
            "xxxEl cliente 23 ha terminado la compra en el minuto 215.77xxx\n",
            "****El cliente 24 ha comenzado la compra en el minuto 215.77****\n",
            "\n",
            "----El cliente número 25 ha llegado a la fila virtual en el minuto 218.66----\n",
            "xxxEl cliente 24 ha terminado la compra en el minuto 219.37xxx\n",
            "****El cliente 25 ha comenzado la compra en el minuto 219.37****\n",
            "xxxEl cliente 25 ha terminado la compra en el minuto 224.21xxx\n",
            "\n",
            "----El cliente número 26 ha llegado a la fila virtual en el minuto 227.14----\n",
            "****El cliente 26 ha comenzado la compra en el minuto 227.14****\n",
            "xxxEl cliente 26 ha terminado la compra en el minuto 231.59xxx\n",
            "\n",
            "----El cliente número 27 ha llegado a la fila virtual en el minuto 265.29----\n",
            "****El cliente 27 ha comenzado la compra en el minuto 265.29****\n",
            "xxxEl cliente 27 ha terminado la compra en el minuto 269.65xxx\n",
            "\n",
            "----El cliente número 28 ha llegado a la fila virtual en el minuto 284.71----\n",
            "****El cliente 28 ha comenzado la compra en el minuto 284.71****\n",
            "xxxEl cliente 28 ha terminado la compra en el minuto 285.93xxx\n",
            "\n",
            "----El cliente número 29 ha llegado a la fila virtual en el minuto 303.44----\n",
            "****El cliente 29 ha comenzado la compra en el minuto 303.44****\n",
            "xxxEl cliente 29 ha terminado la compra en el minuto 308.14xxx\n",
            "\n",
            "----El cliente número 30 ha llegado a la fila virtual en el minuto 310.36----\n",
            "****El cliente 30 ha comenzado la compra en el minuto 310.36****\n",
            "xxxEl cliente 30 ha terminado la compra en el minuto 313.3xxx\n",
            "\n",
            "----El cliente número 31 ha llegado a la fila virtual en el minuto 323.93----\n",
            "****El cliente 31 ha comenzado la compra en el minuto 323.93****\n",
            "xxxEl cliente 31 ha terminado la compra en el minuto 325.9xxx\n",
            "\n",
            "----El cliente número 32 ha llegado a la fila virtual en el minuto 328.9----\n",
            "****El cliente 32 ha comenzado la compra en el minuto 328.9****\n",
            "xxxEl cliente 32 ha terminado la compra en el minuto 329.94xxx\n",
            "\n",
            "----El cliente número 33 ha llegado a la fila virtual en el minuto 335.24----\n",
            "****El cliente 33 ha comenzado la compra en el minuto 335.24****\n",
            "xxxEl cliente 33 ha terminado la compra en el minuto 339.28xxx\n",
            "\n",
            "----El cliente número 34 ha llegado a la fila virtual en el minuto 343.24----\n",
            "****El cliente 34 ha comenzado la compra en el minuto 343.24****\n",
            "xxxEl cliente 34 ha terminado la compra en el minuto 345.12xxx\n",
            "\n",
            "----El cliente número 35 ha llegado a la fila virtual en el minuto 354.03----\n",
            "****El cliente 35 ha comenzado la compra en el minuto 354.03****\n",
            "xxxEl cliente 35 ha terminado la compra en el minuto 357.84xxx\n",
            "\n",
            "----El cliente número 36 ha llegado a la fila virtual en el minuto 383.83----\n",
            "****El cliente 36 ha comenzado la compra en el minuto 383.83****\n",
            "xxxEl cliente 36 ha terminado la compra en el minuto 388.48xxx\n",
            "\n",
            "----El cliente número 37 ha llegado a la fila virtual en el minuto 392.33----\n",
            "****El cliente 37 ha comenzado la compra en el minuto 392.33****\n",
            "xxxEl cliente 37 ha terminado la compra en el minuto 393.73xxx\n",
            "\n",
            "----El cliente número 38 ha llegado a la fila virtual en el minuto 395.34----\n",
            "****El cliente 38 ha comenzado la compra en el minuto 395.34****\n",
            "\n",
            "----El cliente número 39 ha llegado a la fila virtual en el minuto 396.23----\n",
            "\n",
            "----El cliente número 40 ha llegado a la fila virtual en el minuto 398.25----\n",
            "xxxEl cliente 38 ha terminado la compra en el minuto 400.06xxx\n",
            "****El cliente 39 ha comenzado la compra en el minuto 400.06****\n",
            "\n",
            "----El cliente número 41 ha llegado a la fila virtual en el minuto 400.1----\n",
            "\n",
            "----El cliente número 42 ha llegado a la fila virtual en el minuto 403.38----\n",
            "xxxEl cliente 39 ha terminado la compra en el minuto 403.79xxx\n",
            "****El cliente 40 ha comenzado la compra en el minuto 403.79****\n",
            "xxxEl cliente 40 ha terminado la compra en el minuto 407.15xxx\n",
            "****El cliente 41 ha comenzado la compra en el minuto 407.15****\n",
            "\n",
            "----El cliente número 43 ha llegado a la fila virtual en el minuto 407.42----\n",
            "xxxEl cliente 41 ha terminado la compra en el minuto 409.18xxx\n",
            "****El cliente 42 ha comenzado la compra en el minuto 409.18****\n",
            "xxxEl cliente 42 ha terminado la compra en el minuto 413.08xxx\n",
            "****El cliente 43 ha comenzado la compra en el minuto 413.08****\n",
            "xxxEl cliente 43 ha terminado la compra en el minuto 416.47xxx\n",
            "\n",
            "----El cliente número 44 ha llegado a la fila virtual en el minuto 427.56----\n",
            "****El cliente 44 ha comenzado la compra en el minuto 427.56****\n",
            "xxxEl cliente 44 ha terminado la compra en el minuto 431.12xxx\n",
            "\n",
            "----El cliente número 45 ha llegado a la fila virtual en el minuto 456.3----\n",
            "****El cliente 45 ha comenzado la compra en el minuto 456.3****\n",
            "xxxEl cliente 45 ha terminado la compra en el minuto 459.35xxx\n",
            "\n",
            "----El cliente número 46 ha llegado a la fila virtual en el minuto 461.24----\n",
            "****El cliente 46 ha comenzado la compra en el minuto 461.24****\n",
            "\n",
            "----El cliente número 47 ha llegado a la fila virtual en el minuto 463.79----\n",
            "xxxEl cliente 46 ha terminado la compra en el minuto 465.75xxx\n",
            "****El cliente 47 ha comenzado la compra en el minuto 465.75****\n",
            "xxxEl cliente 47 ha terminado la compra en el minuto 470.01xxx\n",
            "\n",
            "----El cliente número 48 ha llegado a la fila virtual en el minuto 473.44----\n",
            "****El cliente 48 ha comenzado la compra en el minuto 473.44****\n",
            "xxxEl cliente 48 ha terminado la compra en el minuto 476.72xxx\n",
            "\n",
            "----El cliente número 49 ha llegado a la fila virtual en el minuto 480.38----\n",
            "****El cliente 49 ha comenzado la compra en el minuto 480.38****\n",
            "xxxEl cliente 49 ha terminado la compra en el minuto 483.04xxx\n"
          ]
        }
      ]
    }
  ]
}