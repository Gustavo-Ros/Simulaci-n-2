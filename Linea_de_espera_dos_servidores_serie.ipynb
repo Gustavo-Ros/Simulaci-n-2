{
  "nbformat": 4,
  "nbformat_minor": 0,
  "metadata": {
    "colab": {
      "provenance": [],
      "authorship_tag": "ABX9TyNw8XZU0HNywTzn+I26V83t",
      "include_colab_link": true
    },
    "kernelspec": {
      "name": "python3",
      "display_name": "Python 3"
    },
    "language_info": {
      "name": "python"
    }
  },
  "cells": [
    {
      "cell_type": "markdown",
      "metadata": {
        "id": "view-in-github",
        "colab_type": "text"
      },
      "source": [
        "<a href=\"https://colab.research.google.com/github/Gustavo-Ros/Simulaci-n-2/blob/main/Linea_de_espera_dos_servidores_serie.ipynb\" target=\"_parent\"><img src=\"https://colab.research.google.com/assets/colab-badge.svg\" alt=\"Open In Colab\"/></a>"
      ]
    },
    {
      "cell_type": "markdown",
      "source": [
        "# LINEAS DE ESPERA CON UN SERVIDOR"
      ],
      "metadata": {
        "id": "fiWNMeXRyxH5"
      }
    },
    {
      "cell_type": "markdown",
      "source": [
        "Los fenómenos de espera, tiene los siguientes elementos en común:\n",
        "* Llegada al mostrador\n",
        "* Paso por uno o varios mostradores\n",
        "* Duración en los que se recibe la atencion con su propio modelo de probabilidad conocido\n",
        "\n",
        "Existen diferentes escenarios:"
      ],
      "metadata": {
        "id": "kExwVrzgy12L"
      }
    },
    {
      "cell_type": "code",
      "execution_count": 1,
      "metadata": {
        "id": "Dza8u4hjypit"
      },
      "outputs": [],
      "source": [
        "import random\n",
        "import matplotlib.pyplot as plt\n",
        "import numpy as np\n",
        "import random as rnd"
      ]
    },
    {
      "cell_type": "code",
      "source": [
        "def servicio(t):\n",
        "  if 0 <=t<=3:\n",
        "    return 5+5*t\n",
        "  elif 3<t<=5:\n",
        "    return 20\n",
        "  elif 5<t<=9:\n",
        "    return 20-2*(t-5)\n",
        "  else:\n",
        "    return 0"
      ],
      "metadata": {
        "id": "6wfwE0vRywq5"
      },
      "execution_count": 2,
      "outputs": []
    },
    {
      "cell_type": "code",
      "source": [
        "def llegada(t):\n",
        "  Lambda = 0.34\n",
        "  T = 60\n",
        "\n",
        "  llegadas = []\n",
        "  tiempos = []\n",
        "\n",
        "  while t <= T:\n",
        "      U1 = rnd.random()\n",
        "      t = t - np.log(U1) / Lambda\n",
        "      U2 = rnd.random()\n",
        "\n",
        "      if U2 <= servicio(t) / Lambda:\n",
        "          TS = t\n",
        "          llegadas.append(TS)\n",
        "          tiempos.append(TS)\n",
        "  return np.mean(tiempos)"
      ],
      "metadata": {
        "id": "23yv54nszF8m"
      },
      "execution_count": 4,
      "outputs": []
    },
    {
      "cell_type": "markdown",
      "source": [
        "## COLA DE DOS SERVIDORES EN SERIE"
      ],
      "metadata": {
        "id": "xOYgjB7J2mYr"
      }
    },
    {
      "cell_type": "markdown",
      "source": [
        "*Variables:*\n",
        "* $\\;\\;\\;t\\;\\;\\;$ :     Tiempo\n",
        "* $N_{LL}$ : Número de llegadas hasat el instante $t$\n",
        "* $N_S\\;\\;$ : Número de salidas hasta el intante $t$\n",
        "* $\\;\\;n_1\\;\\;$ : Número de clientes en la cola y atendido, en $S_1$ para el instante $t$\n",
        "* $\\;\\;n_2\\;\\;$ : Número de clientes $S_2$ en el instante $t$"
      ],
      "metadata": {
        "id": "wcxEPxUW2oi8"
      }
    },
    {
      "cell_type": "code",
      "source": [
        "# Inicialización\n",
        "t = 0\n",
        "N_events = 100  # Número de eventos a simular\n",
        "n1 = 0\n",
        "n2 = 0\n",
        "N_LL = 0\n",
        "N_S = 0\n",
        "t_LL = 0\n",
        "t1 = float('inf')\n",
        "t2 = float('inf')\n",
        "LAMBDA_1 = 0.34\n",
        "LAMBDA_2 = 0.34\n",
        "\n",
        "# Función para generar tiempos de llegada y servicio\n",
        "def generar_tiempo_llegada():\n",
        "    return random.expovariate(1.0)  # Tasa de llegada\n",
        "\n",
        "def generar_tiempo_servicio():\n",
        "    return random.expovariate(1.0)  # Tasa de servicio\n",
        "\n",
        "# Generar el primer tiempo de llegada\n",
        "T0 = -np.log(random.random()) / LAMBDA_1\n",
        "t_LL = T0\n",
        "\n",
        "# Listas para almacenar los tiempos de llegada y servicio\n",
        "LL1 = []\n",
        "S = []\n",
        "\n",
        "# Simulación\n",
        "for _ in range(N_events):\n",
        "    if t_LL <= t1 and t_LL <= t2:\n",
        "        # CASO 1\n",
        "        t = t_LL\n",
        "        N_LL += 1\n",
        "        n1 += 1\n",
        "        LL1.append(t)\n",
        "        T_t = generar_tiempo_servicio()\n",
        "        t_LL = t + T_t\n",
        "\n",
        "        if n1 == 1:\n",
        "            Y = generar_tiempo_servicio()\n",
        "            t1 = t + Y\n",
        "\n",
        "    elif t_LL > t1 and t1 <= t2:\n",
        "        # CASO 2\n",
        "        t = t1\n",
        "        n1 -= 1\n",
        "        n2 += 1\n",
        "        LL1.append(t)\n",
        "\n",
        "        if n1 == 0:\n",
        "            t1 = float('inf')\n",
        "        else:\n",
        "            Y1 = generar_tiempo_servicio()\n",
        "            t1 += Y1\n",
        "\n",
        "        if n2 == 1:\n",
        "            Y2 = generar_tiempo_servicio()\n",
        "            t2 = t + Y2\n",
        "\n",
        "    elif t2 < t1 and t2 < t_LL:\n",
        "        # CASO 3\n",
        "        t = t2\n",
        "        N_S += 1\n",
        "        n2 -= 1\n",
        "        S.append(t)\n",
        "\n",
        "        if n2 > 0:\n",
        "            Y2 = generar_tiempo_servicio()\n",
        "            t2 = t + Y2\n",
        "        else:\n",
        "            t2 = float('inf')\n",
        "\n",
        "# Crear la gráfica\n",
        "plt.figure(figsize=(10, 6))\n",
        "\n",
        "# Gráfica de tiempos de llegada al servidor 1\n",
        "plt.step(LL1, range(1, len(LL1) + 1), where='post', label='Llegadas al servidor 1', color='blue')\n",
        "\n",
        "# Gráfica de tiempos de llegada al servidor 2\n",
        "plt.step(S, range(1, len(S) + 1), where='post', label='Llegadasd al servidor 2', color='red')\n",
        "\n",
        "# Gráfica\n",
        "plt.title('Tiempos de llegada en una cola con dos servidores en serie')\n",
        "plt.xlabel('Tiempo')\n",
        "plt.ylabel('Número de clientes')\n",
        "plt.legend()\n",
        "plt.grid()\n",
        "plt.xlim(left=0)  # Limitar el eje x para que comience desde 0\n",
        "plt.ylim(bottom=0)  # Limitar el eje y para que comience desde 0\n",
        "plt.show()"
      ],
      "metadata": {
        "colab": {
          "base_uri": "https://localhost:8080/",
          "height": 426
        },
        "id": "y6_WLUph2v8e",
        "outputId": "0918e810-1554-47d2-87e8-e22884c00815"
      },
      "execution_count": 17,
      "outputs": [
        {
          "output_type": "display_data",
          "data": {
            "text/plain": [
              "<Figure size 1000x600 with 1 Axes>"
            ],
            "image/png": "[encoded data removed]"
          },
          "metadata": {}
        }
      ]
    }
  ]
}