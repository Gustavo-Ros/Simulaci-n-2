{
  "nbformat": 4,
  "nbformat_minor": 0,
  "metadata": {
    "colab": {
      "provenance": [],
      "authorship_tag": "ABX9TyPzHUf62Pmph4eLkcBu+t2W",
      "include_colab_link": true
    },
    "kernelspec": {
      "name": "python3",
      "display_name": "Python 3"
    },
    "language_info": {
      "name": "python"
    }
  },
  "cells": [
    {
      "cell_type": "markdown",
      "metadata": {
        "id": "view-in-github",
        "colab_type": "text"
      },
      "source": [
        "<a href=\"https://colab.research.google.com/github/Gustavo-Ros/Simulaci-n-2/blob/main/Muestreo_importancia_.ipynb\" target=\"_parent\"><img src=\"https://colab.research.google.com/assets/colab-badge.svg\" alt=\"Open In Colab\"/></a>"
      ]
    },
    {
      "cell_type": "markdown",
      "source": [
        "# APROXIMACION METODO IMPORTANCIA\n"
      ],
      "metadata": {
        "id": "AubJ4MYdzas2"
      }
    },
    {
      "cell_type": "code",
      "execution_count": 1,
      "metadata": {
        "id": "-Zi28ucwpe-X"
      },
      "outputs": [],
      "source": [
        "import random as rnd\n",
        "import numpy as np\n",
        "import matplotlib.pyplot as plt"
      ]
    },
    {
      "cell_type": "code",
      "source": [
        "# Funcion a aproximar\n",
        "def f(x):\n",
        "  f=np.cos(np.pi*x/2)\n",
        "  return f"
      ],
      "metadata": {
        "id": "3d9FG8ggtj9W"
      },
      "execution_count": 2,
      "outputs": []
    },
    {
      "cell_type": "code",
      "source": [
        "# Función para calcular muestra\n",
        "def g(x):\n",
        "  g=1\n",
        "  return g"
      ],
      "metadata": {
        "id": "KNisXQbOxQ3u"
      },
      "execution_count": 3,
      "outputs": []
    },
    {
      "cell_type": "code",
      "source": [
        "#Funcion envolvente\n",
        "def p(x):\n",
        "  p=3/2*(1-x**2)\n",
        "  return p"
      ],
      "metadata": {
        "id": "zD07UaJ_zeaW"
      },
      "execution_count": 6,
      "outputs": []
    },
    {
      "cell_type": "code",
      "source": [
        "def Muestra(n):          #Esta función calcula la muestra\n",
        "  lista=[]\n",
        "  x=0\n",
        "  c=3/2\n",
        "  for i in range(n):\n",
        "    u1=rnd.random()            # Primer variable aleatoria u ~ U(0,1)\n",
        "    u2=rnd.random()            # Segunda variable aleatoria u ~ U(0,0.5)\n",
        "    if u1 <= f(u2)/(c*g(u2)):            # El condicional determina que F^-1(u2) se calcula\n",
        "      x=u2\n",
        "    lista.append(x)           #Se guardan los valores de X ~ f(x)\n",
        "  return lista"
      ],
      "metadata": {
        "id": "zlFmwm_AuwRF"
      },
      "execution_count": 7,
      "outputs": []
    },
    {
      "cell_type": "code",
      "source": [
        "#SIMULACION\n",
        "import time             #Calcula el tiempo de ejecución\n",
        "start_time=time.time()\n",
        "I=0\n",
        "n=100000                # n repeticiones del ensayo\n",
        "e=Muestra(n)\n",
        "for i in range (len(e)):\n",
        "  I+=(1/n)*(f(e[i])/p(e[i]))\n",
        "print(\"Aproximación: \",I)\n",
        "plt.hist(e, bins=100)          #Imprime histograma\n",
        "plt.title('100000 experimentos')\n",
        "end_time=time.time()\n",
        "print(\"El tiempo de ejecución del programa es: \",end_time-start_time)\n",
        "plt.show()"
      ],
      "metadata": {
        "colab": {
          "base_uri": "https://localhost:8080/",
          "height": 487
        },
        "id": "Ks83xT950N-l",
        "outputId": "ea3faf1c-db5a-4d0a-d485-281f49263bce"
      },
      "execution_count": 32,
      "outputs": [
        {
          "output_type": "stream",
          "name": "stdout",
          "text": [
            "Aproximación:  0.6385092703538406\n",
            "El tiempo de ejecución del programa es:  0.711585521697998\n"
          ]
        },
        {
          "output_type": "display_data",
          "data": {
            "text/plain": [
              "<Figure size 640x480 with 1 Axes>"
            ],
            "image/png": "[encoded data removed]"
          },
          "metadata": {}
        }
      ]
    },
    {
      "cell_type": "markdown",
      "source": [
        "# METODO DE ACEPTACION Y RECHAZO"
      ],
      "metadata": {
        "id": "z_Y1cp-oxoft"
      }
    },
    {
      "cell_type": "code",
      "source": [
        "def muestra_sim(c):                      #Esta función se utiliza para la simulación, NO GRAFICA los puntos debajo de la curva\n",
        "  global n\n",
        "  n=0\n",
        "  u1=rnd.random()                        #Coordenada del eje X\n",
        "  u2=rnd.random()                        #Coordenada del eje Y\n",
        "  if u2 <= f(u1):       #Condición de la muestra\n",
        "        n+=1                             #Número de éxito +1\n",
        "  return n"
      ],
      "metadata": {
        "id": "3VPA6jlX3mZ_"
      },
      "execution_count": 18,
      "outputs": []
    },
    {
      "cell_type": "code",
      "source": [
        "def estimacion_iter(N):                           #Esta función se utiliza para la simulación, NO GRAFICA los puntos debajo de la cur\n",
        "  estimacion=[]\n",
        "  iter=0                                    #No. de itercaiones\n",
        "  for i in range(N):\n",
        "    iter+=muestra_sim(f(1))\n",
        "    estimacion.append(iter/(i+1))                #Guarda en una lista la estimación\n",
        "  return np.mean(estimacion)                     #Devuelve la media de las estimaciones de cada experimento"
      ],
      "metadata": {
        "id": "Nh24M_ThvkEX"
      },
      "execution_count": 19,
      "outputs": []
    },
    {
      "cell_type": "code",
      "source": [
        "def simulacion(M):          #Esta función es para realizar la simulación mediante varias corridas del experimento\n",
        "  r=[]\n",
        "  for i in range(M):\n",
        "    R=estimacion_iter(50)        #Si la muestra en el experimento es chica, el número de corridas puede ser alto y viceversa\n",
        "    r.append(R)\n",
        "  return r"
      ],
      "metadata": {
        "id": "oMoZhRZrwvay"
      },
      "execution_count": 20,
      "outputs": []
    },
    {
      "cell_type": "code",
      "source": [
        "start_time=time.time()\n",
        "S=simulacion(1000)                    #Se simula el experimetno mediante n corridas\n",
        "print('Valor de la integral estimado:',np.mean(S))\n",
        "end_time=time.time()\n",
        "print(\"El tiempo de ejecución del programa es: \",end_time-start_time)\n",
        "plt.title('1000 experimentos de 50 iteraciones')\n",
        "plt.axvline(np.mean(S),label='Media',color='red')\n",
        "plt.legend()\n",
        "plt.hist(S,bins=40,color=\"green\")    #Grafica el histograma de las estimaciones calculadas\n",
        "plt.show()"
      ],
      "metadata": {
        "colab": {
          "base_uri": "https://localhost:8080/",
          "height": 487
        },
        "id": "WIeHP98_wxrs",
        "outputId": "6ef35175-c36a-4046-9ff5-ec19678318ac"
      },
      "execution_count": 31,
      "outputs": [
        {
          "output_type": "stream",
          "name": "stdout",
          "text": [
            "Valor de la integral estimado: 0.6316043265566943\n",
            "El tiempo de ejecución del programa es:  0.2017066478729248\n"
          ]
        },
        {
          "output_type": "display_data",
          "data": {
            "text/plain": [
              "<Figure size 640x480 with 1 Axes>"
            ],
            "image/png": "[encoded data removed]"
          },
          "metadata": {}
        }
      ]
    },
    {
      "cell_type": "markdown",
      "source": [
        "El tiempo de ejecución del metodo **Aceptación y Rechazo resultó ser menor al del Método de importancia**"
      ],
      "metadata": {
        "id": "jwwJxb6K0GZq"
      }
    }
  ]
}