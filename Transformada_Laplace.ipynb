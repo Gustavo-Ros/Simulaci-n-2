{
  "nbformat": 4,
  "nbformat_minor": 0,
  "metadata": {
    "colab": {
      "provenance": [],
      "authorship_tag": "ABX9TyNgGndZXCrwd61LQteIBCfG",
      "include_colab_link": true
    },
    "kernelspec": {
      "name": "python3",
      "display_name": "Python 3"
    },
    "language_info": {
      "name": "python"
    }
  },
  "cells": [
    {
      "cell_type": "markdown",
      "metadata": {
        "id": "view-in-github",
        "colab_type": "text"
      },
      "source": [
        "<a href=\"https://colab.research.google.com/github/Gustavo-Ros/Simulaci-n-2/blob/main/Transformada_Laplace.ipynb\" target=\"_parent\"><img src=\"https://colab.research.google.com/assets/colab-badge.svg\" alt=\"Open In Colab\"/></a>"
      ]
    },
    {
      "cell_type": "code",
      "execution_count": 1,
      "metadata": {
        "id": "WxgrNEN3TDPM"
      },
      "outputs": [],
      "source": [
        "import sympy as sp\n"
      ]
    },
    {
      "cell_type": "code",
      "source": [
        "t = sp.symbols('t')\n",
        "Y = sp.Function('Y')"
      ],
      "metadata": {
        "id": "xuiN8RcPTF47"
      },
      "execution_count": 6,
      "outputs": []
    },
    {
      "cell_type": "code",
      "source": [
        "eq=sp.Eq(Y.diff(t, t) + Y,t)\n",
        "Con_in={Y.subs(t,0):1, Y.diff(t).subs(t,0):-2}\n",
        "sol=sp.dsolve(eq,ics=Con_in)\n",
        "sol"
      ],
      "metadata": {
        "colab": {
          "base_uri": "https://localhost:8080/",
          "height": 39
        },
        "id": "b1aIRNbyTLzS",
        "outputId": "03331e45-1d69-48ec-b58e-a9d04afc8f9e"
      },
      "execution_count": 14,
      "outputs": [
        {
          "output_type": "execute_result",
          "data": {
            "text/plain": [
              "Eq(Y(t), t - 3*sin(t) + cos(t))"
            ],
            "text/latex": "$\\displaystyle Y{\\left(t \\right)} = t - 3 \\sin{\\left(t \\right)} + \\cos{\\left(t \\right)}$"
          },
          "metadata": {},
          "execution_count": 14
        }
      ]
    },
    {
      "cell_type": "markdown",
      "source": [],
      "metadata": {
        "id": "ptkzMLEwTzjM"
      }
    }
  ]
}