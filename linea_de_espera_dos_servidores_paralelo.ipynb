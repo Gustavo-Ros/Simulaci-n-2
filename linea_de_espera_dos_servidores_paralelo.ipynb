{
  "nbformat": 4,
  "nbformat_minor": 0,
  "metadata": {
    "colab": {
      "provenance": [],
      "authorship_tag": "ABX9TyM9U9q4WSwlnb3Mr5dnNWI7",
      "include_colab_link": true
    },
    "kernelspec": {
      "name": "python3",
      "display_name": "Python 3"
    },
    "language_info": {
      "name": "python"
    }
  },
  "cells": [
    {
      "cell_type": "markdown",
      "metadata": {
        "id": "view-in-github",
        "colab_type": "text"
      },
      "source": [
        "<a href=\"https://colab.research.google.com/github/Gustavo-Ros/Simulaci-n-2/blob/main/linea_de_espera_dos_servidores_paralelo.ipynb\" target=\"_parent\"><img src=\"https://colab.research.google.com/assets/colab-badge.svg\" alt=\"Open In Colab\"/></a>"
      ]
    },
    {
      "cell_type": "markdown",
      "source": [
        "# LINEAS DE ESPERA CON DOS SERVIDORES EN PARALELO"
      ],
      "metadata": {
        "id": "fiWNMeXRyxH5"
      }
    },
    {
      "cell_type": "code",
      "execution_count": null,
      "metadata": {
        "id": "Dza8u4hjypit"
      },
      "outputs": [],
      "source": [
        "import random\n",
        "import matplotlib.pyplot as plt\n",
        "import numpy as np\n",
        "import random as rnd"
      ]
    },
    {
      "cell_type": "code",
      "source": [
        "def servicio(t):\n",
        "  if 0 <=t<=3:\n",
        "    return 5+5*t\n",
        "  elif 3<t<=5:\n",
        "    return 20\n",
        "  elif 5<t<=9:\n",
        "    return 20-2*(t-5)\n",
        "  else:\n",
        "    return 0"
      ],
      "metadata": {
        "id": "6wfwE0vRywq5"
      },
      "execution_count": null,
      "outputs": []
    },
    {
      "cell_type": "code",
      "source": [
        "def llegada(t):\n",
        "  Lambda=0.34\n",
        "  T=60\n",
        "\n",
        "  llegadas=[]\n",
        "  tiempos=[]\n",
        "\n",
        "  while t <= T:\n",
        "      U1=rnd.random()\n",
        "      t=t-np.log(U1) / Lambda\n",
        "      U2=rnd.random()\n",
        "\n",
        "      if U2 <= servicio(t) / Lambda:\n",
        "          TS=t\n",
        "          llegadas.append(TS)\n",
        "          tiempos.append(TS)\n",
        "  return np.mean(tiempos)"
      ],
      "metadata": {
        "id": "23yv54nszF8m"
      },
      "execution_count": null,
      "outputs": []
    },
    {
      "cell_type": "markdown",
      "source": [
        "## COLA DE DOS SERVIDORES EN PARALELO"
      ],
      "metadata": {
        "id": "xOYgjB7J2mYr"
      }
    },
    {
      "cell_type": "markdown",
      "source": [
        "Lo importante de este modelo es que al tener una sola cola que da el servicio de puestosm hay que llevar un control, identificando los elemtnos que están y el orden en el que se encuentran en cada instante de actualización.\n",
        "\n",
        "*Variables:*\n",
        "* $\\;\\;\\;t\\;\\;\\;$ :     Tiempo\n",
        "* $N_{LL}$ : Número de llegadas hasat el instante $t$\n",
        "* $C_1$: Número de clientes servidos por $S_1$ hasta $t$\n",
        "* $C_2$: Número de clientes servidos por $S_2$ hasta $t$\n",
        "\n",
        "* $n\\;\\;$ : Número de clientes en el sistema en el intante $t$\n",
        "* $i_1$: Cliente atendido por $S_1$ en el instante $t$\n",
        "* $i_2$: Cliente atendido por $S_2$ en el instante $t$\n",
        "* $i_3,i_4$ si hay $n-2$ clientes ordenados en la cola en el instante $t$"
      ],
      "metadata": {
        "id": "Fylh4wX0_vk_"
      }
    },
    {
      "cell_type": "code",
      "source": [
        "t=0\n",
        "C1=0\n",
        "C2=0\n",
        "N_LL=0\n",
        "SS=[0]\n",
        "LAMBDA_1=0.34\n",
        "LAMBDA_2=0.34\n",
        "t_LL=0\n",
        "t1=float('inf')\n",
        "t2=float('inf')\n",
        "\n",
        "# Funciones de llegada\n",
        "def generar_tiempo_llegada():\n",
        "    return random.expovariate(1.0)\n",
        "\n",
        "# Funciones de servicio\n",
        "def generar_tiempo_servicio():\n",
        "    return random.expovariate(1.0)\n",
        "\n",
        "T0=t-np.log(random.random()) / LAMBDA_1\n",
        "t_LL=T0\n",
        "\n",
        "LL = []\n",
        "S = []\n",
        "\n",
        "# Simulación\n",
        "while C1 + C2 < 100:\n",
        "    if t_LL <= t1 and t_LL <= t2 and len(SS) == 1 and SS[0] == 0:\n",
        "        # CASO 1\n",
        "        t=t_LL\n",
        "        N_LL+=1\n",
        "        LL.append(t)\n",
        "\n",
        "        T_t=-np.log(random.random()) / LAMBDA_1\n",
        "        t_LL=t+T_t\n",
        "\n",
        "        if SS == [0]:  # Si ambos servidores están libres\n",
        "            SS=[1, N_LL, 0]\n",
        "            Y1=-np.log(random.random()) / LAMBDA_2\n",
        "            t1=t+Y1\n",
        "        elif SS == [1, 0]:  # Si el servidor 1 está ocupado\n",
        "            SS=[2, N_LL]\n",
        "            Y2=-np.log(random.random()) / LAMBDA_2\n",
        "            t2=t+Y2\n",
        "        elif SS == [1, N_LL, 0]:  # Si el servidor 2 está libre\n",
        "            SS=[2, N_LL, N_LL]\n",
        "            Y1=-np.log(random.random()) / LAMBDA_2\n",
        "            t1=t+Y1\n",
        "        else:\n",
        "            SS.append(N_LL)\n",
        "\n",
        "    elif t_LL > t1 and t1 <= t2 and len(SS) > 1:\n",
        "        # CASO 2\n",
        "        t=t1\n",
        "        C1+=1\n",
        "        S.append(t)\n",
        "\n",
        "        if len(SS) == 2:\n",
        "            SS=[0]\n",
        "            t1=float('inf')\n",
        "        else:\n",
        "            SS.pop(1)  # Remover al cliente servido\n",
        "            Y1=-np.log(random.random()) / LAMBDA_2\n",
        "            t1=t+Y1\n",
        "\n",
        "    elif t2 < t1 and t2 < t_LL and len(SS) > 1:\n",
        "        # CASO 3\n",
        "        t=t2\n",
        "        C2+=1\n",
        "        S.append(t)\n",
        "\n",
        "        if len(SS) == 2:\n",
        "            SS=[0]\n",
        "            t2=float('inf')\n",
        "        elif len(SS) == 3:\n",
        "            SS=[1, SS[1], 0]\n",
        "            t2=float('inf')\n",
        "        else:\n",
        "            SS.pop(2)  # Remover al cliente servido\n",
        "            Y2=-np.log(random.random()) / LAMBDA_2\n",
        "            t2=t+Y2\n",
        "\n",
        "print(\"Tiempos de llegada al sistema:\", LL)\n",
        "print(\"Tiempos de servicio en los servidores:\", S)\n",
        "\n",
        "plt.figure(figsize=(10, 6))\n",
        "plt.step(LL, range(1, len(LL) + 1), where='post', label='Llegadas al sistema', color='blue')\n",
        "plt.step(S, range(1, len(S) + 1), where='post', label='Servicios en los servidores', color='orange')\n",
        "plt.title('Tiempos de llegada y servicio en un sistema de cola con dos servidores en paralelo')\n",
        "plt.xlabel('Tiempo')\n",
        "plt.ylabel('Número de eventos')\n",
        "plt.legend()\n",
        "plt.grid()\n",
        "plt.show()\n"
      ],
      "metadata": {
        "id": "1pJrKKGN_6Qe"
      },
      "execution_count": null,
      "outputs": []
    }
  ]
}